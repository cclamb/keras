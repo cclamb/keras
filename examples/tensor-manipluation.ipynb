{
 "cells": [
  {
   "cell_type": "code",
   "execution_count": 13,
   "metadata": {
    "collapsed": false
   },
   "outputs": [
    {
     "name": "stdout",
     "output_type": "stream",
     "text": [
      "Tensor(\"Const_24:0\", shape=(), dtype=float32) Tensor(\"Const_25:0\", shape=(), dtype=float32)\n",
      "[3.0, 4.0]\n",
      "[4.0]\n",
      "[11.0]\n",
      "[20.0]\n"
     ]
    }
   ],
   "source": [
    "import tensorflow as tf\n",
    "from keras import backend as K\n",
    "\n",
    "t1 = tf.constant(3.0, dtype=tf.float32)\n",
    "t2 = tf.constant(4.0)\n",
    "print t1, t2\n",
    "\n",
    "f = K.function([t1], [t2])\n",
    "s = tf.Session()\n",
    "\n",
    "print s.run([t1, t2])\n",
    "print f([3.0])\n",
    "\n",
    "t3 = tf.add(t1, t2)\n",
    "f1 = K.function([t1, t2], [t3])\n",
    "print f1([3, 8])\n",
    "\n",
    "a = tf.placeholder(tf.float32)\n",
    "b = tf.placeholder(tf.float32)\n",
    "t4 = tf.multiply(a, b)\n",
    "f2 = K.function([a, b], [t4])\n",
    "print f2([4.0, 5.0])\n",
    "\n"
   ]
  }
 ],
 "metadata": {
  "kernelspec": {
   "display_name": "Python 2",
   "language": "python",
   "name": "python2"
  },
  "language_info": {
   "codemirror_mode": {
    "name": "ipython",
    "version": 2
   },
   "file_extension": ".py",
   "mimetype": "text/x-python",
   "name": "python",
   "nbconvert_exporter": "python",
   "pygments_lexer": "ipython2",
   "version": "2.7.12"
  }
 },
 "nbformat": 4,
 "nbformat_minor": 1
}
