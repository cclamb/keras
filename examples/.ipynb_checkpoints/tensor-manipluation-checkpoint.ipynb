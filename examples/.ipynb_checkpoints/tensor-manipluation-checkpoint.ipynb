{
 "cells": [
  {
   "cell_type": "code",
   "execution_count": null,
   "metadata": {
    "collapsed": true
   },
   "outputs": [],
   "source": [
    "import tensorflow as tf\n",
    "from keras import backend as K\n",
    "\n",
    "t1 = tf.constant(3.0, dtype=tf.float32)\n",
    "t2 = tf.constant(4.0)\n",
    "print t1, t2\n",
    "\n",
    "f = K.function([t1], [t2])\n",
    "s = tf.Session()\n",
    "\n",
    "print s.run([t1, t2])\n",
    "print f([3.0])"
   ]
  }
 ],
 "metadata": {
  "kernelspec": {
   "display_name": "Python 2",
   "language": "python",
   "name": "python2"
  },
  "language_info": {
   "codemirror_mode": {
    "name": "ipython",
    "version": 2
   },
   "file_extension": ".py",
   "mimetype": "text/x-python",
   "name": "python",
   "nbconvert_exporter": "python",
   "pygments_lexer": "ipython2",
   "version": "2.7.12"
  }
 },
 "nbformat": 4,
 "nbformat_minor": 1
}
